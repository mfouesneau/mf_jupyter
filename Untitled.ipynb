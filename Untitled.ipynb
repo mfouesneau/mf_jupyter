{
 "cells": [
  {
   "cell_type": "markdown",
   "metadata": {
    "hide": true
   },
   "source": [
    "# Title\n",
    "\n",
    "### author\n",
    "\n",
    "_this cell is not exported: the metadata `hide` is set_\n",
    "To see the metadata, click the toolbar `edit Metadata`. (if not visible go the the menu `View > Cell Toolbar > Edit Metadata`)\n",
    "\n",
    "_author and title are set in the `document_configuration.tex`_"
   ]
  },
  {
   "cell_type": "code",
   "execution_count": 1,
   "metadata": {
    "collapsed": false,
    "hide": true
   },
   "outputs": [
    {
     "name": "stdout",
     "output_type": "stream",
     "text": [
      "Populating the interactive namespace from numpy and matplotlib\n"
     ]
    },
    {
     "data": {
      "text/html": [
       "\n",
       "    <script>\n",
       "\n",
       "    $( document ).ready(function () {\n",
       "        IPython.CodeCell.options_default['cm_config']['lineWrapping'] = true;\n",
       "        IPython.notebook.get_selected_cell()\n",
       "\n",
       "        IPython.toolbar.add_buttons_group([\n",
       "                {\n",
       "                    'label'   : 'toggle all input cells',\n",
       "                    'icon'    : 'fa-eye-slash',\n",
       "                    'callback': function(){ $('div.input').slideToggle(); }\n",
       "                }\n",
       "            ]);\n",
       "    });\n",
       "    </script>\n",
       "    "
      ],
      "text/plain": [
       "<IPython.core.display.HTML object>"
      ]
     },
     "metadata": {},
     "output_type": "display_data"
    },
    {
     "data": {
      "text/html": [
       "\n",
       "    <script>\n",
       "\n",
       "    function insert_citn() {\n",
       "        // Build paragraphs of cell type and count\n",
       "\n",
       "        var entry_box = $('<input type=\"text\"/>');\n",
       "        var body = $('<div><p> Enter the Bibtex reference to insert </p><form>').append(entry_box)\n",
       "                    .append('</form></div>');\n",
       "\n",
       "        // Show a modal dialog with the stats\n",
       "        IPython.dialog.modal({\n",
       "            notebook: IPython.notebook,\n",
       "            keyboard_manager: IPython.notebook.keyboard_manager,\n",
       "            title: \"Bibtex reference insertion\",\n",
       "            body: body,\n",
       "            open: function() {\n",
       "                // Submit on pressing enter\n",
       "                var that = $(this);\n",
       "                that.find('form').submit(function () {\n",
       "                    that.find('.btn-primary').first().click();\n",
       "                    return false;\n",
       "                });\n",
       "                entry_box.focus();\n",
       "            },\n",
       "            buttons : {\n",
       "                \"Cancel\" : {},\n",
       "                \"Insert\" : {\n",
       "                    \"class\" : \"btn-primary\",\n",
       "                    \"click\" : function() {\n",
       "                        // Retrieve the selected citation, add to metadata,\n",
       "                        var citation = entry_box.val();\n",
       "                        // if (!citation) {return;}\n",
       "                        var citn_html = '<cite data-cite=\"' + citation + '\">' + citation + '</cite>';\n",
       "                        var cell = IPython.notebook.get_selected_cell();\n",
       "                        cell.code_mirror.replaceSelection(citn_html);\n",
       "                    }\n",
       "                }\n",
       "            }\n",
       "        });\n",
       "    };\n",
       "\n",
       "    $( document ).ready(function () {\n",
       "\n",
       "        IPython.toolbar.add_buttons_group([\n",
       "                {\n",
       "                    'label'   : 'insert bibtex reference in markdown',\n",
       "                    'icon'    : 'fa-graduation-cap', // http://fontawesome.io/icons/\n",
       "                    'callback': insert_citn,\n",
       "                }\n",
       "            ]);\n",
       "    });\n",
       "\n",
       "    </script>\n",
       "    <style>\n",
       "    cite {\n",
       "        font-style: normal;\n",
       "        color: #45749e;\n",
       "    }\n",
       "    </style>\n",
       "    "
      ],
      "text/plain": [
       "<IPython.core.display.HTML object>"
      ]
     },
     "metadata": {},
     "output_type": "display_data"
    },
    {
     "data": {
      "text/markdown": [
       "(Latex macros)\n",
       "$\n",
       "    \\newcommand{\\dataerr}{\\mathbf{\\Sigma_D}}\n",
       "    \\newcommand{\\PI}{\\mathbf{\\pi}}\n",
       "    \\newcommand{\\nclobs}{n_{c,obs}}\n",
       "    \\newcommand{\\nclpred}{n_{c,pred}}\n",
       "    \\newcommand{\\birthrate}{\\dot n_{birth}}\n",
       "    \\newcommand{\\Mi}{M_{i}}\n",
       "    \\newcommand{\\ts}{\\tilde{t}}\n",
       "    \\newcommand{\\tage}{t_{age}}\n",
       "    \\newcommand{\\PI}{\\overrightarrow{\\pi}}\n",
       "    \\newcommand{\\dif}{\\,\\text{d}} \n",
       "    \\newcommand{\\dt}{\\Delta t}\n",
       "    \\newcommand{\\Ge}{\\gamma_e}\n",
       "    \\newcommand{\\Gd}{\\gamma_d} \n",
       "    \\newcommand{\\dif}{\\,\\text{d}} \n",
       "    \\newcommand{\\given}{\\,\\mid\\,}\n",
       "    \\newcommand{\\prob}{\\mathcal{P}}\n",
       "    \\newcommand{\\data}{\\mathbf{D}}\n",
       "    \\newcommand{\\datai}{\\mathbf{D_i}}\n",
       "    \\newcommand{\\T}{\\mathbf{\\theta}}\n",
       "    \\newcommand{\\Ti}{\\mathbf{\\theta_i}}\n",
       "    \\newcommand{\\err}{\\mathbf{\\Sigma_D}}\n",
       "    \\newcommand{\\erri}{\\mathbf{\\Sigma_{D,i}}}\n",
       "    \\newcommand{\\like}{\\mathcal{L}}\n",
       "    \\newcommand{\\best}{\\mathrm{best}}\n",
       "    \\newcommand{\\normal}{\\mathcal{N}}\n",
       "    \\newcommand{\\Pbad}{\\prob_{\\mathrm{b}}}\n",
       "    \\newcommand{\\union}{\\cup}\n",
       "    \\newcommand{\\intersect}{\\cap}\n",
       "    \\newcommand{\\argmax}{\\operatornamewithlimits{arg\\,max}}\n",
       "    \\newcommand{\\argmin}{\\operatornamewithlimits{arg\\,min}}\n",
       "    \\newcommand{\\card}{\\operatorname{card}}\t\n",
       "    \\newcommand{\\sgn}{\\operatorname{sgn}}\n",
       "    \\newcommand{\\rank}{\\operatorname{rank}}\t\t\t\t\n",
       "    \\newcommand{\\EE}{\\operatornamewithlimits{E}}\n",
       "    \\newcommand{\\id}{\\operatorname{id}}\t\t\t\n",
       "   \\newcommand{\\abs}[1]{\\left| #1 \\right|}\n",
       "   \\newcommand{\\norm}[1]{\\left\\| #1 \\right\\|}\n",
       "   \\newcommand{\\pa}[1]{\\left(#1\\right)}\n",
       "   \\newcommand{\\bra}[1]{\\left[#1\\right]}\n",
       "   \\newcommand{\\cbra}[1]{\\left\\{#1\\right\\}} \t\n",
       "   \\newcommand{\\Vec}[1]{\\overrightarrow}\n",
       "   \\newcommand{\\mmatrix}[1]{\\boldsymbol{#1}}\n",
       "   \\newcommand{\\inverse}[1]{{#1}^{-1}}\n",
       "   \\newcommand{\\transpose}[1]{{#1}^{\\scriptscriptstyle \\top}}\n",
       "   \\newcommand{\\mean}[1]{\\left<{#1}\\right>}\n",
       "   \\newcommand{\\Proba}[1]{\\prob\\left(\\, #1 \\,\\right)}\n",
       "   \\newcommand{\\proba}[1]{\\prob(\\, #1 \\,)}\n",
       "   \\newcommand{\\set}[1]{\\left\\{\\,#1\\,\\right\\}}\n",
       "   \\newcommand{\\set}[1]{\\left\\{\\,#1\\,\\right\\}}\n",
       "$\n",
       "$\n",
       "  \\newcommand{\\Unit}[1]{{\\mathrm{~#1}}} % define unit\n",
       "  \\newcommand{\\um}{\\mu\\mathrm{m}}\n",
       "  \\newcommand{\\erg}{\\Unit{erg}}\n",
       "  \\newcommand{\\ergs}{\\Unit{erg~s}}\n",
       "  \\newcommand{\\yr}{\\Unit{yr}}\n",
       "  \\newcommand{\\Myr}{\\Unit{Myr}}\n",
       "  \\newcommand{\\Gyr}{\\Unit{Gyr}}\n",
       "  \\newcommand{\\pc}{\\Unit{pc}}\n",
       "  \\newcommand{\\kpc}{\\Unit{kpc}}\n",
       "  \\newcommand{\\Mpc}{\\Unit{Mpc}}\n",
       "  \\newcommand{\\Lsun}{\\Unit{L}_{\\odot}}\n",
       "  \\newcommand{\\Zsun}{\\Unit{Z}_{\\odot}}\n",
       "  \\newcommand{\\msun}{\\Unit{M}_{\\odot}}\n",
       "  \\newcommand{\\kms}{\\Unit{km\\,s^{-1}}}\n",
       "  \\newcommand{\\ang}{\\AA}               %Angstrom unit\n",
       "  \\newcommand{\\degpoint}{\\mbox{$^\\circ\\mskip-7.0mu.\\,$}}\n",
       "  \\newcommand{\\halpha}{\\mbox{H$\\alpha$}}\n",
       "  \\newcommand{\\hbeta}{\\mbox{H$\\beta$}}\n",
       "  \\newcommand{\\hgamma}{\\mbox{H$\\gamma$}}\n",
       "  \\newcommand{\\lya}{\\mbox{Ly$\\alpha$}}\n",
       "  \\newcommand{\\lyb}{\\mbox{Ly$\\beta$}}\n",
       "  \\newcommand{\\minpoint}{\\mbox{$'\\mskip-4.7mu.\\mskip0.8mu$}}\n",
       "  \\newcommand{\\mv}{\\mbox{$m_{_V}$}}\n",
       "  \\newcommand{\\Mv}{\\mbox{$M_{_V}$}}\n",
       "  \\newcommand{\\peryr}{\\mbox{$\\>\\rm yr^{-1}$}}\n",
       "  \\newcommand{\\secpoint}{\\mbox{$''\\mskip-7.6mu.\\,$}}\n",
       "  \\newcommand{\\sqdeg}{\\mbox{${\\rm deg}^2$}}\n",
       "  \\newcommand{\\squig}{\\sim\\!\\!}\n",
       "  \\newcommand{\\subsun}{\\mbox{$_{\\normalsize\\odot}$}}\n",
       "  \\newcommand{\\sq}{\\mbox{\\rlap{$\\sqcap$}$\\sqcup$}}% \n",
       "  \\newcommand{\\arcdeg}{\\mbox{$^\\circ$}}% \n",
       "  \\newcommand{\\arcmin}{\\mbox{$^\\prime$}}% \n",
       "  \\newcommand{\\arcsec}{\\mbox{$^{\\prime\\prime}$}}% \n",
       "  \\newcommand{\\fd}{\\mbox{$.\\!\\!^{\\mathrm d}$}}% \n",
       "  \\newcommand{\\fh}{\\mbox{$.\\!\\!^{\\mathrm h}$}}% \n",
       "  \\newcommand{\\fm}{\\mbox{$.\\!\\!^{\\mathrm m}$}}% \n",
       "  \\newcommand{\\fs}{\\mbox{$.\\!\\!^{\\mathrm s}$}}% \n",
       "  \\newcommand{\\fdg}{\\mbox{$.\\!\\!^\\circ$}}% \n",
       "  \\newcommand{\\slantfrac}{\\case}% \n",
       "  \\newcommand{\\onehalf}{\\slantfrac{1}{2}}% \n",
       "  \\newcommand{\\onethird}{\\slantfrac{1}{3}}% \n",
       "  \\newcommand{\\twothirds}{\\slantfrac{2}{3}}% \n",
       "  \\newcommand{\\onequarter}{\\slantfrac{1}{4}}% \n",
       "  \\newcommand{\\threequarters}{\\slantfrac{3}{4}}% \n",
       "  \\newcommand{\\ubvr}{\\mbox{$U\\!BV\\!R$}}%% UBVR system \n",
       "  \\newcommand{\\ub}{\\mbox{$U\\!-\\!B$}}%   % U-B \n",
       "  \\newcommand{\\bv}{\\mbox{$B\\!-\\!V$}}%   % B-V \n",
       "  \\newcommand{\\vr}{\\mbox{$V\\!-\\!R$}}%   % V-R \n",
       "  \\newcommand{\\ur}{\\mbox{$U\\!-\\!R$}}%   % U-R \n",
       "  \\newcommand{\\ion}[2]{#1$\\;${\\small\\rmfamily\\@Roman{#2}}\\relax}% \n",
       "  \\newcommand{\\nodata}{ ~$\\cdots$~ }% \n",
       "  \\newcommand{\\diameter}{\\ooalign{\\hfil/\\hfil\\crcr\\mathhexbox20D}}% \n",
       "  \\newcommand{\\degr}{\\arcdeg}% \n",
       "  \\newcommand{\\sun}{\\odot}% \n",
       "  \\newcommand{\\Sun}{\\sun}% \n",
       "  \\newcommand{\\Sol}{\\sun}% \n",
       "  \\newcommand{\\Av}{{{\\mathrm{A}}_{\\mathrm{V}}}}\n",
       "  \\newcommand{\\latin}[1]{\\textsl{#1}}\n",
       "  \\newcommand{\\aposteriori}{\\latin{a~posteriori}}\n",
       "  \\newcommand{\\apriori}{\\latin{a~priori}}\n",
       "  \\newcommand{\\adhoc}{\\latin{ad~hoc}}\n",
       "  \\newcommand{\\etal}{\\latin{et~al.}}\n",
       "  \\newcommand{\\eg}{{e.g.}}\n",
       "  \\newcommand{\\ie}{\\latin{i.e.}}\n",
       "  \\newcommand{\\term}[1]{{\\bf #1}}\n",
       "  \\newcommand{\\code}[1]{{\\tt #1}}\n",
       "  \\newcommand{\\Fref}[1]{Fig.\\,\\ref{#1}}\n",
       "  \\newcommand{\\Sref}[1]{\\S\\,\\ref{#1}}\n",
       "  \\newcommand{\\Eref}[1]{Eq.\\,\\ref{#1}}\n",
       "$\n"
      ],
      "text/plain": [
       "<IPython.core.display.Markdown object>"
      ]
     },
     "metadata": {},
     "output_type": "display_data"
    }
   ],
   "source": [
    "# Loading configuration\n",
    "# Don't forget that mac has this annoying configuration that leads\n",
    "# to limited number of figures/files\n",
    "# ulimit -n 4096    <---- osx limits to 256\n",
    "\n",
    "# Notebook matplotlib mode\n",
    "%pylab inline                                 \n",
    "# set for retina or hi-resolution displays\n",
    "%config InlineBackend.figure_format='retina'  \n",
    "\n",
    "import pylab as plt\n",
    "import numpy as np\n",
    "from mf_jupyter import figrc, setup_mpl\n",
    "setup_mpl.theme()\n",
    "setup_mpl.solarized_colors()\n",
    "\n",
    "from mf_jupyter import (add_input_toggle, add_citation_button, \n",
    "                        LatexFigure, LatexSubfigures, LatexNumberFormatter, \n",
    "                        load_latex_macros)\n",
    "\n",
    "add_input_toggle();     # Hide code button\n",
    "add_citation_button();  # Add bitex reference\n",
    "load_latex_macros()     # Load latex macros `notebook_macros` file"
   ]
  },
  {
   "cell_type": "markdown",
   "metadata": {
    "hide": true
   },
   "source": [
    "# Abstract"
   ]
  },
  {
   "cell_type": "markdown",
   "metadata": {
    "abstract": true
   },
   "source": [
    "Here the abstract"
   ]
  },
  {
   "cell_type": "markdown",
   "metadata": {},
   "source": [
    "# Section"
   ]
  },
  {
   "cell_type": "markdown",
   "metadata": {},
   "source": [
    "Let's make a figure with caption"
   ]
  },
  {
   "cell_type": "code",
   "execution_count": 2,
   "metadata": {
    "collapsed": false
   },
   "outputs": [
    {
     "data": {
      "text/html": [
       "<blockquote><p><strong>Figure (<a name=\"fig:figure_label\">figure_label</a>)</strong>: Example of a caption for this figure.</p>\n",
       "</blockquote>\n"
      ],
      "text/latex": [
       "\\begin{figure}\n",
       "            \\centering\n",
       "            \\includegraphics[width=\\columnwidth]{./figure_figure_label.pdf}\n",
       "            \\caption{Example of a caption for this figure.}\n",
       "            \\label{fig:figure_label}\n",
       "            \\end{figure}\n",
       "            "
      ],
      "text/plain": [
       "Figure: figure_label (Example of a caption for this figure.)"
      ]
     },
     "execution_count": 2,
     "metadata": {},
     "output_type": "execute_result"
    },
    {
     "data": {
      "image/png": "[encoded data removed]",
      "text/plain": [
       "<matplotlib.figure.Figure at 0x104d440f0>"
      ]
     },
     "metadata": {
      "image/png": {
       "height": 290,
       "width": 395
      }
     },
     "output_type": "display_data"
    }
   ],
   "source": [
    "plt.plot(range(10))\n",
    "plt.xlabel('x-label')\n",
    "plt.ylabel('y-label')\n",
    "figrc.hide_axis('top right'.split())\n",
    "LatexFigure('figure_label', \"Example of a caption for this figure.\")"
   ]
  },
  {
   "cell_type": "code",
   "execution_count": null,
   "metadata": {
    "collapsed": true
   },
   "outputs": [],
   "source": []
  }
 ],
 "metadata": {
  "anaconda-cloud": {},
  "celltoolbar": "Edit Metadata",
  "kernelspec": {
   "display_name": "Python [default]",
   "language": "python",
   "name": "python3"
  },
  "language_info": {
   "codemirror_mode": {
    "name": "ipython",
    "version": 3
   },
   "file_extension": ".py",
   "mimetype": "text/x-python",
   "name": "python",
   "nbconvert_exporter": "python",
   "pygments_lexer": "ipython3",
   "version": "3.5.2"
  },
  "latex_envs": {
   "LaTeX_envs_menu_present": true,
   "bibliofile": "biblio.bib",
   "cite_by": "apalike",
   "current_citInitial": 1,
   "eqLabelWithNumbers": true,
   "eqNumInitial": 1,
   "labels_anchors": false,
   "latex_user_defs": false,
   "report_style_numbering": false,
   "user_envs_cfg": false
  },
  "toc": {
   "colors": {
    "hover_highlight": "#DAA520",
    "running_highlight": "#FF0000",
    "selected_highlight": "#FFD700"
   },
   "moveMenuLeft": true,
   "nav_menu": {
    "height": "66px",
    "width": "252px"
   },
   "navigate_menu": true,
   "number_sections": true,
   "sideBar": true,
   "threshold": 4,
   "toc_cell": false,
   "toc_section_display": "block",
   "toc_window_display": false
  }
 },
 "nbformat": 4,
 "nbformat_minor": 2
}

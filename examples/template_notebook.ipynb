{
 "cells": [
  {
   "cell_type": "markdown",
   "metadata": {
    "hide": true
   },
   "source": [
    "# Template notebook for CU8Val"
   ]
  },
  {
   "cell_type": "markdown",
   "metadata": {
    "hide": true
   },
   "source": [
    "# setup notebook tools\n",
    "This section sets the tools we need to create our notebook"
   ]
  },
  {
   "cell_type": "code",
   "execution_count": 1,
   "metadata": {
    "hide": true
   },
   "outputs": [
    {
     "data": {
      "text/html": [
       "\n",
       "             <script>\n",
       "             var CellToolbar = Jupyter.CellToolbar\n",
       "var mf_hide_toggle =  function(div, cell) {\n",
       "     var button_container = $(div)\n",
       "\n",
       "     // let's create a button that shows the current value of the metadata\n",
       "     var button = $('<button/>').addClass('btn btn-default btn-xs').text(\"hide: \"  + String(cell.metadata.hide));\n",
       "\n",
       "     // On click, change the metadata value and update the button label\n",
       "     button.click(function(){\n",
       "                 var v = cell.metadata.hide;\n",
       "                 cell.metadata.hide = !v;\n",
       "                 button.text(\"hide: \"  + String(!v));\n",
       "             })\n",
       "\n",
       "     // add the button to the DOM div.\n",
       "     button_container.append(button);\n",
       "}\n",
       "\n",
       "// now we register the callback under the name foo to give the\n",
       "// user the ability to use it later\n",
       "CellToolbar.register_callback('mf_hide', mf_hide_toggle);\n",
       "\n",
       "// Now we declare the toolbar\n",
       "console.log('Clear mf_jupyter if exists.')\n",
       "Jupyter.CellToolbar.unregister_preset('mf_jupyter')\n",
       "Jupyter.CellToolbar.register_preset('mf_jupyter',['mf_hide','default.rawedit'])\n",
       "console.log('Loaded extension mf_jupyter.')\n",
       "             </script>\n",
       "             "
      ],
      "text/plain": [
       "<IPython.core.display.HTML object>"
      ]
     },
     "metadata": {},
     "output_type": "display_data"
    },
    {
     "data": {
      "text/html": [
       "\n",
       "    <script>\n",
       "\n",
       "    $( document ).ready(function () {\n",
       "        IPython.CodeCell.options_default['cm_config']['lineWrapping'] = true;\n",
       "        IPython.notebook.get_selected_cell()\n",
       "\n",
       "        IPython.toolbar.add_buttons_group([\n",
       "                {\n",
       "                    'label'   : 'toggle all input cells',\n",
       "                    'icon'    : 'fa-eye-slash',\n",
       "                    'callback': function(){ $('div.input').slideToggle(); }\n",
       "                }\n",
       "            ]);\n",
       "    });\n",
       "    </script>\n",
       "    "
      ],
      "text/plain": [
       "<IPython.core.display.HTML object>"
      ]
     },
     "metadata": {},
     "output_type": "display_data"
    },
    {
     "data": {
      "application/javascript": [
       "\n",
       "    define('setTags', function() {\n",
       "        return function(element, tags) {\n",
       "            var cell_element = element.parents('.cell');\n",
       "            var index = Jupyter.notebook.get_cell_elements().index(cell_element);\n",
       "            var cell = Jupyter.notebook.get_cell(index);\n",
       "            cell.metadata.tags = tags;\n",
       "        }\n",
       "    });\n",
       "\n",
       "    define('setAbstract', function() {\n",
       "        return function(element) {\n",
       "            var cell_element = element.parents('.cell');\n",
       "            var index = Jupyter.notebook.get_cell_elements().index(cell_element);\n",
       "            var cell = Jupyter.notebook.get_cell(index);\n",
       "            cell.metadata.abstract = \"true\";\n",
       "        }\n",
       "    });\n",
       "\n",
       "    define('setHide', function() {\n",
       "        return function(element, tags) {\n",
       "            var cell_element = element.parents('.cell');\n",
       "            var index = Jupyter.notebook.get_cell_elements().index(cell_element);\n",
       "            var cell = Jupyter.notebook.get_cell(index);\n",
       "            cell.metadata.hide = tags;\n",
       "        }\n",
       "    });\n",
       "    "
      ],
      "text/latex": [],
      "text/plain": []
     },
     "metadata": {},
     "output_type": "display_data"
    },
    {
     "data": {
      "application/javascript": [
       "\n",
       "        IPython.CellToolbar.activate_preset(\"mf_jupyter\");\n",
       "        IPython.CellToolbar.global_show();\n",
       "    "
      ],
      "text/latex": [],
      "text/plain": []
     },
     "metadata": {},
     "output_type": "display_data"
    },
    {
     "data": {
      "text/markdown": [
       "(Latex macros)\n",
       "$\n",
       "    \\newcommand{\\num}{{}}\n",
       "    \\newcommand{\\dataerr}{\\mathbf{\\Sigma_D}}\n",
       "    \\newcommand{\\PI}{\\mathbf{\\pi}}\n",
       "    \\newcommand{\\nclobs}{n_{c,obs}}\n",
       "    \\newcommand{\\nclpred}{n_{c,pred}}\n",
       "    \\newcommand{\\birthrate}{\\dot n_{birth}}\n",
       "    \\newcommand{\\Mi}{M_{i}}\n",
       "    \\newcommand{\\ts}{\\tilde{t}}\n",
       "    \\newcommand{\\tage}{t_{age}}\n",
       "    \\newcommand{\\PI}{\\overrightarrow{\\pi}}\n",
       "    \\newcommand{\\dif}{\\,\\text{d}}\n",
       "    \\newcommand{\\dt}{\\Delta t}\n",
       "    \\newcommand{\\Ge}{\\gamma_e}\n",
       "    \\newcommand{\\Gd}{\\gamma_d}\n",
       "    \\newcommand{\\dif}{\\,\\text{d}}\n",
       "    \\newcommand{\\given}{\\,\\mid\\,}\n",
       "    \\newcommand{\\prob}{\\mathcal{P}}\n",
       "    \\newcommand{\\data}{\\mathbf{D}}\n",
       "    \\newcommand{\\datai}{\\mathbf{D_i}}\n",
       "    \\newcommand{\\T}{\\mathbf{\\theta}}\n",
       "    \\newcommand{\\Ti}{\\mathbf{\\theta_i}}\n",
       "    \\newcommand{\\err}{\\mathbf{\\Sigma_D}}\n",
       "    \\newcommand{\\erri}{\\mathbf{\\Sigma_{D,i}}}\n",
       "    \\newcommand{\\like}{\\mathcal{L}}\n",
       "    \\newcommand{\\best}{\\mathrm{best}}\n",
       "    \\newcommand{\\normal}{\\mathcal{N}}\n",
       "    \\newcommand{\\Pbad}{\\prob_{\\mathrm{b}}}\n",
       "    \\newcommand{\\union}{\\cup}\n",
       "    \\newcommand{\\intersect}{\\cap}\n",
       "    \\newcommand{\\argmax}{\\operatornamewithlimits{arg\\,max}}\n",
       "    \\newcommand{\\argmin}{\\operatornamewithlimits{arg\\,min}}\n",
       "    \\newcommand{\\card}{\\operatorname{card}}\n",
       "    \\newcommand{\\sgn}{\\operatorname{sgn}}\n",
       "    \\newcommand{\\rank}{\\operatorname{rank}}\n",
       "    \\newcommand{\\EE}{\\operatornamewithlimits{E}}\n",
       "    \\newcommand{\\id}{\\operatorname{id}}\n",
       "   \\newcommand{\\abs}[1]{\\left| #1 \\right|}\n",
       "   \\newcommand{\\norm}[1]{\\left\\| #1 \\right\\|}\n",
       "   \\newcommand{\\pa}[1]{\\left(#1\\right)}\n",
       "   \\newcommand{\\bra}[1]{\\left[#1\\right]}\n",
       "   \\newcommand{\\cbra}[1]{\\left\\{#1\\right\\}}\n",
       "   \\newcommand{\\Vec}[1]{\\overrightarrow}\n",
       "   \\newcommand{\\mmatrix}[1]{\\boldsymbol{#1}}\n",
       "   \\newcommand{\\inverse}[1]{{#1}^{-1}}\n",
       "   \\newcommand{\\transpose}[1]{{#1}^{\\scriptscriptstyle \\top}}\n",
       "   \\newcommand{\\mean}[1]{\\left<{#1}\\right>}\n",
       "   \\newcommand{\\Proba}[1]{\\prob\\left(\\, #1 \\,\\right)}\n",
       "   \\newcommand{\\proba}[1]{\\prob(\\, #1 \\,)}\n",
       "   \\newcommand{\\set}[1]{\\left\\{\\,#1\\,\\right\\}}\n",
       "   \\newcommand{\\set}[1]{\\left\\{\\,#1\\,\\right\\}}\n",
       "$\n",
       "$\n",
       "  \\newcommand{\\Unit}[1]{{\\mathrm{~#1}}} % define unit\n",
       "  \\newcommand{\\um}{\\mu\\mathrm{m}}\n",
       "  \\newcommand{\\erg}{\\Unit{erg}}\n",
       "  \\newcommand{\\ergs}{\\Unit{erg~s}}\n",
       "  \\newcommand{\\yr}{\\Unit{yr}}\n",
       "  \\newcommand{\\Myr}{\\Unit{Myr}}\n",
       "  \\newcommand{\\Gyr}{\\Unit{Gyr}}\n",
       "  \\newcommand{\\pc}{\\Unit{pc}}\n",
       "  \\newcommand{\\kpc}{\\Unit{kpc}}\n",
       "  \\newcommand{\\Mpc}{\\Unit{Mpc}}\n",
       "  \\newcommand{\\Lsun}{\\Unit{L}_{\\odot}}\n",
       "  \\newcommand{\\Zsun}{\\Unit{Z}_{\\odot}}\n",
       "  \\newcommand{\\msun}{\\Unit{M}_{\\odot}}\n",
       "  \\newcommand{\\kms}{\\Unit{km\\,s^{-1}}}\n",
       "  \\newcommand{\\ang}{\\AA}               %Angstrom unit\n",
       "  \\newcommand{\\degpoint}{\\mbox{$^\\circ\\mskip-7.0mu.\\,$}}\n",
       "  \\newcommand{\\halpha}{\\mbox{H$\\alpha$}}\n",
       "  \\newcommand{\\hbeta}{\\mbox{H$\\beta$}}\n",
       "  \\newcommand{\\hgamma}{\\mbox{H$\\gamma$}}\n",
       "  \\newcommand{\\lya}{\\mbox{Ly$\\alpha$}}\n",
       "  \\newcommand{\\lyb}{\\mbox{Ly$\\beta$}}\n",
       "  \\newcommand{\\minpoint}{\\mbox{$'\\mskip-4.7mu.\\mskip0.8mu$}}\n",
       "  \\newcommand{\\mv}{\\mbox{$m_{_V}$}}\n",
       "  \\newcommand{\\Mv}{\\mbox{$M_{_V}$}}\n",
       "  \\newcommand{\\peryr}{\\mbox{$\\>\\rm yr^{-1}$}}\n",
       "  \\newcommand{\\secpoint}{\\mbox{$''\\mskip-7.6mu.\\,$}}\n",
       "  \\newcommand{\\sqdeg}{\\mbox{${\\rm deg}^2$}}\n",
       "  \\newcommand{\\squig}{\\sim\\!\\!}\n",
       "  \\newcommand{\\subsun}{\\mbox{$_{\\normalsize\\odot}$}}\n",
       "  \\newcommand{\\sq}{\\mbox{\\rlap{$\\sqcap$}$\\sqcup$}}%\n",
       "  \\newcommand{\\arcdeg}{\\mbox{$^\\circ$}}%\n",
       "  \\newcommand{\\arcmin}{\\mbox{$^\\prime$}}%\n",
       "  \\newcommand{\\arcsec}{\\mbox{$^{\\prime\\prime}$}}%\n",
       "  \\newcommand{\\fd}{\\mbox{$.\\!\\!^{\\mathrm d}$}}%\n",
       "  \\newcommand{\\fh}{\\mbox{$.\\!\\!^{\\mathrm h}$}}%\n",
       "  \\newcommand{\\fm}{\\mbox{$.\\!\\!^{\\mathrm m}$}}%\n",
       "  \\newcommand{\\fs}{\\mbox{$.\\!\\!^{\\mathrm s}$}}%\n",
       "  \\newcommand{\\fdg}{\\mbox{$.\\!\\!^\\circ$}}%\n",
       "  \\newcommand{\\slantfrac}{\\case}%\n",
       "  \\newcommand{\\onehalf}{\\slantfrac{1}{2}}%\n",
       "  \\newcommand{\\onethird}{\\slantfrac{1}{3}}%\n",
       "  \\newcommand{\\twothirds}{\\slantfrac{2}{3}}%\n",
       "  \\newcommand{\\onequarter}{\\slantfrac{1}{4}}%\n",
       "  \\newcommand{\\threequarters}{\\slantfrac{3}{4}}%\n",
       "  \\newcommand{\\ubvr}{\\mbox{$U\\!BV\\!R$}}%% UBVR system\n",
       "  \\newcommand{\\ub}{\\mbox{$U\\!-\\!B$}}%   % U-B\n",
       "  \\newcommand{\\bv}{\\mbox{$B\\!-\\!V$}}%   % B-V\n",
       "  \\newcommand{\\vr}{\\mbox{$V\\!-\\!R$}}%   % V-R\n",
       "  \\newcommand{\\ur}{\\mbox{$U\\!-\\!R$}}%   % U-R\n",
       "  \\newcommand{\\ion}[2]{#1$\\;${\\small\\rmfamily\\@Roman{#2}}\\relax}%\n",
       "  \\newcommand{\\nodata}{ ~$\\cdots$~ }%\n",
       "  \\newcommand{\\diameter}{\\ooalign{\\hfil/\\hfil\\crcr\\mathhexbox20D}}%\n",
       "  \\newcommand{\\degr}{\\arcdeg}%\n",
       "  \\newcommand{\\sun}{\\odot}%\n",
       "  \\newcommand{\\Sun}{\\sun}%\n",
       "  \\newcommand{\\Sol}{\\sun}%\n",
       "  \\newcommand{\\Av}{{{\\mathrm{A}}_{\\mathrm{V}}}}\n",
       "  \\newcommand{\\latin}[1]{\\textsl{#1}}\n",
       "  \\newcommand{\\aposteriori}{\\latin{a~posteriori}}\n",
       "  \\newcommand{\\apriori}{\\latin{a~priori}}\n",
       "  \\newcommand{\\adhoc}{\\latin{ad~hoc}}\n",
       "  \\newcommand{\\etal}{\\latin{et~al.}}\n",
       "  \\newcommand{\\eg}{{e.g.}}\n",
       "  \\newcommand{\\ie}{\\latin{i.e.}}\n",
       "  \\newcommand{\\term}[1]{{\\bf #1}}\n",
       "  \\newcommand{\\code}[1]{{\\tt #1}}\n",
       "  \\newcommand{\\Fref}[1]{Fig.\\,\\ref{#1}}\n",
       "  \\newcommand{\\Sref}[1]{\\S\\,\\ref{#1}}\n",
       "  \\newcommand{\\Eref}[1]{Eq.\\,\\ref{#1}}\n",
       "$"
      ],
      "text/plain": [
       "<IPython.core.display.Markdown object>"
      ]
     },
     "metadata": {},
     "output_type": "display_data"
    }
   ],
   "source": [
    "from mf_jupyter.notebook import (register_magic, display_toolbar, add_input_toggle, add_hide_button)\n",
    "from mf_jupyter.notebook.tools import (load_latex_macros, AutoText, LatexFigure, Table, Acknowledgements)\n",
    "from cu8val import macros, jupyter\n",
    "from cu8val.cu8db import QueryStr, setup_cu8db\n",
    "from IPython.display import Markdown, display\n",
    "\n",
    "add_hide_button()\n",
    "add_input_toggle()         # Hide code button\n",
    "register_magic()           # adds some magic functions %abstract, %tag, ...\n",
    "display_toolbar()          # display the mf_jupyter toolbar\n",
    "load_latex_macros()        # Load latex macros `notebook_macros` file"
   ]
  },
  {
   "cell_type": "code",
   "execution_count": 2,
   "metadata": {
    "hide": true
   },
   "outputs": [
    {
     "data": {
      "text/markdown": [
       "\n",
       "(user macros)\n",
       "$$\n",
       "\\newcommand{\\pass}{\\text{✓}}\n",
       "\\newcommand{\\fail}{\\text{✗}}\n",
       "$$\n"
      ],
      "text/plain": [
       "<IPython.core.display.Markdown object>"
      ]
     },
     "execution_count": 2,
     "metadata": {},
     "output_type": "execute_result"
    }
   ],
   "source": [
    "# Add your own macros\n",
    "Markdown(r\"\"\"\n",
    "(user macros)\n",
    "$$\n",
    "\\newcommand{\\pass}{\\text{✓}}\n",
    "\\newcommand{\\fail}{\\text{✗}}\n",
    "$$\n",
    "\"\"\")"
   ]
  },
  {
   "cell_type": "code",
   "execution_count": 3,
   "metadata": {
    "hide": true
   },
   "outputs": [],
   "source": [
    "%matplotlib inline\n",
    "\n",
    "import numpy as np\n",
    "import pandas as pd\n",
    "import pylab as plt\n",
    "\n",
    "# make sure you see warnings\n",
    "import warnings\n",
    "warnings.filterwarnings('default', category=ResourceWarning)\n",
    "\n",
    "# MF's plot style\n",
    "from ezdata.matplotlib import light_minimal\n",
    "plt.style.use(light_minimal)\n",
    "\n",
    "# Other tools\n",
    "# from ezdata.datashader import DSPlotter"
   ]
  },
  {
   "cell_type": "code",
   "execution_count": 4,
   "metadata": {
    "hide": true
   },
   "outputs": [
    {
     "name": "stderr",
     "output_type": "stream",
     "text": [
      "/Users/fouesneau/Work/projects/gaia-cu8/cu8val/venv/lib/python3.11/site-packages/cu8val/cu8db.py:21: ResourceWarning: The CU8 path does not exists or was not found on this machine (/Users/fouesneau/work/share/cu8val_users).\n",
      "  warnings.warn(ResourceWarning(f\"The CU8 path does not exists or was not found on this machine ({cu8db_path}).\"))\n"
     ]
    }
   ],
   "source": [
    "try:\n",
    "    setup_cu8db()   # adds the path to cu8db package\n",
    "    from cu8db import CU8Database \n",
    "    db = CU8Database()\n",
    "except ImportError:\n",
    "    db = None\n",
    "except ResourceWarning:\n",
    "    db = None"
   ]
  },
  {
   "cell_type": "markdown",
   "metadata": {
    "hide": true
   },
   "source": [
    "<div class=\"alert alert-block alert-info\"> \n",
    "    \n",
    "**NOTE**: **`mf_jupter` toolbar should show automatically** after the above cell is executed.\n",
    "    \n",
    "</div>\n",
    "\n",
    "\n",
    "<div class=\"alert alert-block alert-warning\">\n",
    "    \n",
    "💡 You can manually display the `mf_jupter` toolbar by clicking into the menu: View > Cell Toolbar > mf_jupyter\n",
    "You should see a new bar at the top of each cell which contains `hide: [true|false]` and `Edit Metadata`.\n",
    "\n",
    "💡 The `hide` button toggles the export status of the cell. Any hidden cell will not be exported to the PDF document. You can also use the `%hide true` or `%hide false` magic at the beginning of a code cell.\n",
    "    \n",
    "</div>\n",
    "\n"
   ]
  },
  {
   "cell_type": "markdown",
   "metadata": {
    "hide": true
   },
   "source": [
    "## initialize notebook parameters\n",
    "In this section, we initialize the parameters for the notebook.\n",
    "\n",
    "<div class=\"alert alert-block alert-info\"> \n",
    "    \n",
    "**NOTE**: We first create the DPAC document variables. \n",
    "Similarly to a normal latex report, we define the author, title, document reference, and revision number.\n",
    "    \n",
    "</div>\n",
    "    "
   ]
  },
  {
   "cell_type": "code",
   "execution_count": 5,
   "metadata": {
    "hide": true
   },
   "outputs": [
    {
     "name": "stdout",
     "output_type": "stream",
     "text": [
      "Overwriting document_configuration.tex\n"
     ]
    }
   ],
   "source": [
    "%%file document_configuration.tex\n",
    "\\def\\documentTitle{CU8Val (v0.5.0) template document}\n",
    "\\def\\documentAuthor{Morgan Fouesneau}\n",
    "\\def\\DpacDocRef{GAIA-C8-TN-MPIA-MFX-37}\n",
    "\\def\\DpacDocRevision{0}\n",
    "% MF macros/styles -- These are the validation macros and styles\n",
    "\\usepackage[draft, buttons]{_cu8_macros}\n",
    "\\usepackage{_cu8_validation}\n",
    "% Set the macros to use normal document (not draft)\n",
    "\\MyDraftfalse\n",
    "% notebooks now define prompt\n",
    "\\let\\prompt\\undefined\n",
    "% The following is to properly display ADQL queries\n",
    "\\usepackage{color}\n",
    "\\definecolor{dkgreen}{rgb}{0,0.6,0}\n",
    "\\definecolor{ltgray}{rgb}{0.5,0.5,0.5}\n",
    "\\usepackage{listings}\n",
    "\\lstset{%\n",
    "  \tbackgroundcolor=\\color{white},\n",
    "  \tbasicstyle=\\scriptsize,\n",
    "  \tbreakatwhitespace=false,\n",
    "  \tbreaklines=true,\n",
    "  \tcaptionpos=b,\n",
    "  \tcommentstyle=\\color{dkgreen},\n",
    "  \tdeletekeywords={...},\n",
    "  \tescapeinside={\\%*}{*)},\n",
    "  \textendedchars=true,\n",
    "  \tframe=single,\n",
    "  \tkeepspaces=true,\n",
    "  \tkeywordstyle=\\color{blue},\n",
    "  \tlanguage=SQL,\n",
    "  \tmorekeywords={*,modify,MODIFY,...},\n",
    "  \tnumbers=left,\n",
    "  \tnumbersep=15pt,\n",
    "  \tnumberstyle=\\tiny,\n",
    "  \trulecolor=\\color{ltgray},\n",
    "  \tshowspaces=false,\n",
    "  \tshowstringspaces=false, \n",
    "  \tshowtabs=false,\n",
    "  \tstepnumber=1,\n",
    "  \ttabsize=4,\n",
    "  \ttitle=\\lstname\n",
    "}"
   ]
  },
  {
   "cell_type": "markdown",
   "metadata": {
    "hide": true
   },
   "source": [
    "<div class=\"alert alert-block alert-warning\">\n",
    "    \n",
    "💡 You can define \"global\" variables that could make the generalization of this notebook easier.\n",
    "    \n",
    "</div>"
   ]
  },
  {
   "cell_type": "code",
   "execution_count": 6,
   "metadata": {},
   "outputs": [],
   "source": [
    "# typical example of parameters to use throughout the notebook\n",
    "RUNNAME = \"ops67b\"\n",
    "RUNNAME_ASP = \"ops67\"\n",
    "MODULE = \"template\"\n",
    "# ... any other useful parameter"
   ]
  },
  {
   "cell_type": "markdown",
   "metadata": {
    "hide": true
   },
   "source": [
    "# Abstract\n",
    "\n",
    "<div class=\"alert alert-block alert-info\"> \n",
    "\n",
    "The abstract needs to contain \n",
    "1. **Context**. Make clear the **task** of this document (validation) and who is the **target reader**.\n",
    "2. **Object**. What was actually done.\n",
    "3. **Main conclusions**. Important findings and status\n",
    "4. **Next Plans**. What will happen next.\n",
    "\n",
    "</div>\n",
    "\n",
    "<div class=\"alert alert-block alert-warning\">\n",
    "    \n",
    "The abstract is the markdown cell with metadata `abstract = true`.\n",
    "You need to manually set this tag.\n",
    "    \n",
    "💡 The following cell already sets the metadata field `abstract = true`\n",
    "    \n",
    "</div>"
   ]
  },
  {
   "cell_type": "markdown",
   "metadata": {
    "abstract": true
   },
   "source": [
    "This TN is a template & help document for the CU8 team that describes the `CU8Val` tools to automate validation documents using Jupyter Notebooks. With this package, one can generate their entire report from a Jupyter Notebook created on DAF. We do not cover the use of Jupyter notebooks in this document.\n",
    "\n",
    "The compiled document contains the structure and example sections for a validation report. The original notebook contains tips and documentation to help generate this report.\n",
    "\n",
    "The `CU8Val` package and template notebook will evolve with our needs.\n",
    "\n",
    "CU8Val release version `v0.5.0`\n",
    "\n",
    "*This document is generated directly from a Jupyter Notebook. Some queries are kept in the PDF, but all queries and codes are accessible from the source notebook document.*"
   ]
  },
  {
   "cell_type": "markdown",
   "metadata": {},
   "source": [
    "# Summary"
   ]
  },
  {
   "cell_type": "markdown",
   "metadata": {
    "hide": true
   },
   "source": [
    "<div class=\"alert alert-block alert-info\"> \n",
    "    \n",
    "**NOTE:** Executive summary of your report\n",
    "    \n",
    "</div>    "
   ]
  },
  {
   "cell_type": "markdown",
   "metadata": {},
   "source": [
    "1. **Module Overview**\n",
    "\n",
    "    Brief overview of the module\n",
    "    \n",
    "2. **Goals of this run** \n",
    "    For this particular run, there were some objectives and goals.\n",
    "    * $\\pass$ goal 1\n",
    "    * $\\fail$ goal 2\n",
    "    \n",
    "3. **Main results**\n",
    "    This report contains details, here we list our main results for a quick scan and links.\n",
    "    1. result 1\n",
    "    2. result 2\n",
    "    \n",
    "4. **Known issues** \n",
    "    What does not work and we already know about. \n",
    "    * issue 1\n",
    "    * issue 2\n",
    "    \n",
    "5. **Mask values if** (OR conditions)\n",
    "    * mask 1\n",
    "    * mask 2\n",
    "    \n",
    "6. **External feedback needs**\n",
    "    List of specific points expecting feedback.\n",
    "    * point 1\n",
    "    * point 2\n",
    "    \n",
    "7. **GDR4 Publication content**\n",
    "    Up to date list of publication products for the next Release.\n",
    "    * group 1\n",
    "    * group 2\n",
    "\n",
    "8. **Applicable Documents**\n",
    "    * doc 1\n",
    "    * doc 2\n",
    "\n",
    "9. **Next developments**\n",
    "\n",
    "    Inform the team what the next development of the modules are. Maybe some patches, or maybe revising what mask needs to be done."
   ]
  },
  {
   "cell_type": "markdown",
   "metadata": {},
   "source": [
    "# List of validation tests and results\n",
    "\n",
    "The list below lists all individual tests throughout this document and their individual results. (It can be used to rapidly access some particular tests."
   ]
  },
  {
   "cell_type": "markdown",
   "metadata": {
    "hide": true
   },
   "source": [
    "<div class=\"alert alert-block alert-info\">\n",
    "    \n",
    "TOC list all the registered validation tests.\n",
    "    \n",
    "It should automatically refresh itself when new tests are created. \n",
    "    \n",
    "</div>"
   ]
  },
  {
   "cell_type": "code",
   "execution_count": 7,
   "metadata": {
    "hide": false
   },
   "outputs": [
    {
     "data": {
      "application/javascript": [
       "\n",
       "            var output_area = this;\n",
       "            // find my cell element\n",
       "            var cell_element = output_area.element.parents('.cell');\n",
       "            // which cell is it?\n",
       "            var cell_idx_CU8ValidationTestList = Jupyter.notebook.kernel.comm_manager.new_comm('CU8ValidationTestList');\n",
       "            cell_idx_CU8ValidationTestList = Jupyter.notebook.get_cell_elements().index(cell_element);\n",
       "            if (Jupyter.notebook.metadata.store === undefined) {Jupyter.notebook.metadata.store = {};}\n",
       "            Jupyter.notebook.metadata.store.CU8ValidationTestListCell = cell_idx_CU8ValidationTestList;\n",
       "            console.log(\"Metadata: CU8ValidationTestListCell = \" + cell_idx_CU8ValidationTestList)\n",
       "            "
      ],
      "text/latex": [],
      "text/plain": []
     },
     "metadata": {},
     "output_type": "display_data"
    },
    {
     "data": {
      "text/latex": [
       "\\listofvaltest"
      ],
      "text/markdown": [
       "<div id=\"CU8ValidationTestList\">\n",
       "\n",
       "| VT ||title ||\n",
       "|---:|-|:-----|-|\n",
       "\n",
       "\n",
       "</div>"
      ],
      "text/plain": [
       "[]"
      ]
     },
     "execution_count": 7,
     "metadata": {},
     "output_type": "execute_result"
    }
   ],
   "source": [
    "# TOC list all the registered validation tests.\n",
    "# It may not display the tests yet. \n",
    "# It should automatically refresh itself when new tests are created. \n",
    "macros.CU8ValidationTest.list_of_tests"
   ]
  },
  {
   "cell_type": "markdown",
   "metadata": {},
   "source": [
    "# Overview of the module and context of this Apsis run"
   ]
  },
  {
   "cell_type": "markdown",
   "metadata": {
    "hide": true
   },
   "source": [
    "<div class=\"alert alert-block alert-info\">\n",
    "    \n",
    "In this section, you need to give the context of this report\n",
    "* Describe the Apsis software (incl. version) \n",
    "    * Provide a condensed description of the individual WP, including references to a WP TN providing many more details\n",
    "    * Remember to give the input data and potential requirements on them (link to the other modules validation reports if applicable)\n",
    "    * Next Data Release contributions\n",
    "    * Other parameter outputs that are not necessarily for GDR3 nor GDRX but serve for internal validation\n",
    "* The objective of this run for your module\n",
    "  * patches applied (short description + JIRA links)\n",
    "    \n",
    "</div>\n",
    "\n",
    "\n",
    "<div class=\"alert alert-block alert-warning\">\n",
    "    \n",
    "💡 This section is mainly identical throughout the validation cycle.\n",
    "    \n",
    "</div>"
   ]
  },
  {
   "cell_type": "markdown",
   "metadata": {},
   "source": [
    "# Validation Tests and Results"
   ]
  },
  {
   "cell_type": "markdown",
   "metadata": {
    "hide": true
   },
   "source": [
    "<div class=\"alert alert-block alert-info\">\n",
    "    \n",
    "Authors are free to organize the subsections at will, but a clear structure detailed below needs to be respected. \n",
    "    \n",
    "Use subsections to clearly mark differences between series of tests.\n",
    "\n",
    "Each test must contain:\n",
    "* a description of the test (objectives) \n",
    "* test description and which data used (link(s) to SVN.\n",
    "* Results\n",
    "* Findings and plots/tables related to the test.\n",
    "* Conclusions of this test (\\fail\\ or \\pass)\n",
    "\n",
    "</div>"
   ]
  },
  {
   "cell_type": "markdown",
   "metadata": {},
   "source": [
    "## Category 1: basic examples"
   ]
  },
  {
   "cell_type": "code",
   "execution_count": 8,
   "metadata": {},
   "outputs": [
    {
     "data": {
      "text/latex": [
       "\\valtest{ Testing Validation Test display }\n",
       "{ An example of validation test }\n",
       "{ No specific dataset }\n",
       "{ The test should display nicely in the notebook }\n",
       "{ \\pass }\n"
      ],
      "text/markdown": [
       "| <a name=\"vt:1\">VT:1</a> |                |   Testing Validation Test display      | <span style=\"color:#52fa7f\">✓</span> |\n",
       "|-------------|----------------|:-----------------|------------|\n",
       "|             | **Objectives** |An example of validation test   |            |\n",
       "|             | **Dataset**    |No specific dataset       |            |\n",
       "|             | **Results**    |The test should display nicely in the notebook       |            |\n"
      ],
      "text/plain": [
       "<cu8val.macros.CU8ValidationTest object>"
      ]
     },
     "execution_count": 8,
     "metadata": {},
     "output_type": "execute_result"
    }
   ],
   "source": [
    "macros.CU8ValidationTest(\n",
    "    \"Testing Validation Test display\",\n",
    "    \"An example of validation test\",\n",
    "    \"No specific dataset\",\n",
    "    \"The test should display nicely in the notebook\",\n",
    "    True\n",
    ")"
   ]
  },
  {
   "cell_type": "code",
   "execution_count": 9,
   "metadata": {},
   "outputs": [
    {
     "data": {
      "text/latex": [
       "\\valtest{ Testing Validation Test display for failed test }\n",
       "{ An example of failed validation test }\n",
       "{ No specific dataset }\n",
       "{ The test should display a failed test in the notebook }\n",
       "{ \\fail }\n"
      ],
      "text/markdown": [
       "| <a name=\"vt:2\">VT:2</a> |                |   Testing Validation Test display for failed test      | <span style=\"color:#f68002\">✗</span> |\n",
       "|-------------|----------------|:-----------------|------------|\n",
       "|             | **Objectives** |An example of failed validation test   |            |\n",
       "|             | **Dataset**    |No specific dataset       |            |\n",
       "|             | **Results**    |The test should display a failed test in the notebook       |            |\n"
      ],
      "text/plain": [
       "<cu8val.macros.CU8ValidationTest object>"
      ]
     },
     "execution_count": 9,
     "metadata": {},
     "output_type": "execute_result"
    }
   ],
   "source": [
    "macros.CU8ValidationTest(\n",
    "    \"Testing Validation Test display for failed test\",\n",
    "    \"An example of failed validation test\",\n",
    "    \"No specific dataset\",\n",
    "    \"The test should display a failed test in the notebook\",\n",
    "    False\n",
    ")"
   ]
  },
  {
   "cell_type": "markdown",
   "metadata": {},
   "source": [
    "Validation tests [vt:1](#vt:1) & [vt:2](#vt:2) demonstrate how one can define a validation test summary header.\n",
    "More practical tests will most likely contain text, figures, and tables."
   ]
  },
  {
   "cell_type": "markdown",
   "metadata": {
    "hide": true
   },
   "source": [
    "<div class=\"alert alert-block alert-warning\">\n",
    "    \n",
    "💡 CU8Val provides markdown hyperlinks to validation tests: `[display text](#vt:<number>)`\n",
    "    \n",
    "</div>"
   ]
  },
  {
   "cell_type": "markdown",
   "metadata": {},
   "source": [
    "## Category 2: \"Integrity of the outputs\"\n",
    "\n",
    "A more practical example of validation tests"
   ]
  },
  {
   "cell_type": "code",
   "execution_count": 10,
   "metadata": {},
   "outputs": [
    {
     "data": {
      "text/latex": [
       "\\valtest{ Example pass: All validation sources available }\n",
       "{ Make sure all requested VSTs were obtained }\n",
       "{ All VDT data }\n",
       "{ Missing sources outside the magnitude cut of the run }\n",
       "{ \\pass }\n"
      ],
      "text/markdown": [
       "| <a name=\"vt:3\">VT:3</a> |                |   Example pass: All validation sources available      | <span style=\"color:#52fa7f\">✓</span> |\n",
       "|-------------|----------------|:-----------------|------------|\n",
       "|             | **Objectives** |Make sure all requested VSTs were obtained   |            |\n",
       "|             | **Dataset**    |All VDT data       |            |\n",
       "|             | **Results**    |Missing sources outside the magnitude cut of the run       |            |\n"
      ],
      "text/plain": [
       "<cu8val.macros.CU8ValidationTest object>"
      ]
     },
     "execution_count": 10,
     "metadata": {},
     "output_type": "execute_result"
    }
   ],
   "source": [
    "macros.CU8ValidationTest(\n",
    "    \"Example pass: All validation sources available\",\n",
    "    \"Make sure all requested VSTs were obtained\",\n",
    "    \"All VDT data\",\n",
    "    \"Missing sources outside the magnitude cut of the run\",\n",
    "    True\n",
    ")"
   ]
  },
  {
   "cell_type": "markdown",
   "metadata": {},
   "source": [
    "For this test we compare the requested list of targets in the VSTs with the content of the output of the run. \n",
    "$12,345$ objects were missing, but after inspection, these were rejected because this run was only processing objects with $G < 15$mag."
   ]
  },
  {
   "cell_type": "code",
   "execution_count": 11,
   "metadata": {},
   "outputs": [
    {
     "data": {
      "text/latex": [
       "\\valtest{ Example fail: Output basic integrity statistics }\n",
       "{ Make sure all expected data was processed and no NaN are reported }\n",
       "{ All outputs of Module X }\n",
       "{ Some flag values are NULL and \\(T_{\\rm eff}\\) are sometimes outside\n",
       "expected range. }\n",
       "{ \\fail }\n"
      ],
      "text/markdown": [
       "| <a name=\"vt:4\">VT:4</a> |                |   Example fail: Output basic integrity statistics      | <span style=\"color:#f68002\">✗</span> |\n",
       "|-------------|----------------|:-----------------|------------|\n",
       "|             | **Objectives** |Make sure all expected data was processed and no NaN are reported   |            |\n",
       "|             | **Dataset**    |All outputs of Module X       |            |\n",
       "|             | **Results**    |Some flag values are NULL and $T_{\\rm eff}$ are sometimes outside expected range.       |            |\n"
      ],
      "text/plain": [
       "<cu8val.macros.CU8ValidationTest object>"
      ]
     },
     "execution_count": 11,
     "metadata": {},
     "output_type": "execute_result"
    }
   ],
   "source": [
    "macros.CU8ValidationTest(\n",
    "    \"Example fail: Output basic integrity statistics\",\n",
    "    \"Make sure all expected data was processed and no NaN are reported\",\n",
    "    \"All outputs of Module X\",\n",
    "    r\"Some flag values are NULL and $T_{\\rm eff}$ are sometimes outside expected range.\",\n",
    "    False\n",
    ")"
   ]
  },
  {
   "cell_type": "markdown",
   "metadata": {},
   "source": [
    "We check the integrity of our output values from table `tablename`: we test for `NULL` values and that all values are within the expected ranges (and in agreement with our data model definition).\n",
    "\n",
    "[Table tab:integrity_issues](#tab:integrity_issues) reports that some `flag` values are `NULL` and $T_{\\rm eff}$ (`teff`) are sometimes outside expected range."
   ]
  },
  {
   "cell_type": "code",
   "execution_count": 12,
   "metadata": {},
   "outputs": [
    {
     "data": {
      "text/html": [
       "\n",
       "        <style type=\"text/css\">\n",
       "        .util_Table td { text-align: center; }\n",
       "        .util_Table tbody tr, .util_Table tbody td {\n",
       "            border-bottom: 0;\n",
       "            border-top: 0;\n",
       "        }\n",
       "        .util_Table_subtable {\n",
       "            float: left;\n",
       "        }\n",
       "        </style>\n",
       "        \n",
       "\n",
       "            <h3>Integrity results per field <code>[integrity_issues]</code></h3>\n",
       "            \n",
       "<table class='util_Table'>\n",
       "<thead>\n",
       "<tr>\n",
       "<th>field</th>\n",
       "<th>issue</th>\n",
       "<th>count</th>\n",
       "<th>pass or fail</th>\n",
       "<th>comment</th>\n",
       "</tr>\n",
       "</thead>\n",
       "<tbody>\n",
       "<tr>\n",
       "<td>teff</td>\n",
       "<td>NULL</td>\n",
       "<td>0</td>\n",
       "<td>$\\pass$</td>\n",
       "<td></td>\n",
       "</tr>\n",
       "<tr>\n",
       "<td>teff</td>\n",
       "<td>out of bounds</td>\n",
       "<td>147983</td>\n",
       "<td>$\\fail$</td>\n",
       "<td>C8CAL-000</td>\n",
       "</tr>\n",
       "<tr>\n",
       "<td>...</td>\n",
       "<td>...</td>\n",
       "<td>...</td>\n",
       "<td>...</td>\n",
       "<td>...</td>\n",
       "</tr>\n",
       "<tr>\n",
       "<td>flags</td>\n",
       "<td>NULL</td>\n",
       "<td>2345678</td>\n",
       "<td>$\\fail$</td>\n",
       "<td>C8CAL-000</td>\n",
       "</tr>\n",
       "</tbody>\n",
       "</table>"
      ],
      "text/latex": [
       "\\begin{table}\n",
       "[h]\n",
       "\n",
       "        \\centering\n",
       "        \n",
       "\\caption{Integrity results per field}\n",
       "\\label{tab:integrity_issues}\n",
       "\\begin{tabular}{|c|c|c|c|c|}\n",
       "\\hline\n",
       "field & issue & count & pass or fail & comment \\\\\n",
       "\\hline\n",
       "teff & NULL & 0 & $\\pass$ &  \\\\\n",
       "teff & out of bounds & 147983 & $\\fail$ & C8CAL-000 \\\\\n",
       "... & ... & ... & ... & ... \\\\\n",
       "flags & NULL & 2345678 & $\\fail$ & C8CAL-000 \\\\\n",
       "\n",
       "        \\hline\n",
       "        \\end{tabular}%\n",
       "\\end{table} "
      ],
      "text/plain": [
       "Table: integrity_issues (Integrity results per field)\n",
       "field    issue            count      pass or fail    comment      \n",
       "teff     NULL             0          $\\pass$                      \n",
       "teff     out of bounds    147983     $\\fail$         C8CAL-000    \n",
       "...      ...              ...        ...             ...          \n",
       "flags    NULL             2345678    $\\fail$         C8CAL-000    "
      ]
     },
     "execution_count": 12,
     "metadata": {},
     "output_type": "execute_result"
    }
   ],
   "source": [
    "# Some code here that can create a Table (manually or from pandas)\n",
    "headings = ['field', 'issue', 'count', 'pass or fail', 'comment']\n",
    "data = [\n",
    "    ['teff', 'NULL', '0', r'$\\pass$', ''],\n",
    "    ['teff', 'out of bounds', 147983, r'$\\fail$', 'C8CAL-000'],\n",
    "    ['...', '...', '...', '...', '...'],\n",
    "    ['flags', 'NULL', 2345678, r'$\\fail$', 'C8CAL-000']\n",
    "]\n",
    "\n",
    "Table(data, headings,\n",
    "     caption=\"Integrity results per field\",\n",
    "     label=\"integrity_issues\")"
   ]
  },
  {
   "cell_type": "markdown",
   "metadata": {},
   "source": [
    "## Category 3: example with Figures\n",
    "\n",
    "We also need to report the queries and figures sometimes"
   ]
  },
  {
   "cell_type": "code",
   "execution_count": 13,
   "metadata": {},
   "outputs": [
    {
     "data": {
      "text/latex": [
       "\\valtest{ Example with figure: Sky coverage of the processed sources }\n",
       "{ Make sure the processing covers the whole sky }\n",
       "{ Output from module X (\\texttt{ops67b\\_modulex}) }\n",
       "{ Skymap is full sky but shows artifical density features such as the\n",
       "Kepler field, SDSS footprint etc. }\n",
       "{ \\pass }\n"
      ],
      "text/markdown": [
       "| <a name=\"vt:5\">VT:5</a> |                |   Example with figure: Sky coverage of the processed sources      | <span style=\"color:#52fa7f\">✓</span> |\n",
       "|-------------|----------------|:-----------------|------------|\n",
       "|             | **Objectives** |Make sure the processing covers the whole sky   |            |\n",
       "|             | **Dataset**    |Output from module X (`ops67b_modulex`)       |            |\n",
       "|             | **Results**    |Skymap is full sky but shows artifical density features such as the Kepler field, SDSS footprint etc.       |            |\n"
      ],
      "text/plain": [
       "<cu8val.macros.CU8ValidationTest object>"
      ]
     },
     "execution_count": 13,
     "metadata": {},
     "output_type": "execute_result"
    }
   ],
   "source": [
    "macros.CU8ValidationTest(\n",
    "    \"Example with figure: Sky coverage of the processed sources\",\n",
    "    \"Make sure the processing covers the whole sky\",\n",
    "    f\"Output from module X (`{RUNNAME:s}_modulex`)\",\n",
    "    r\"Skymap is full sky but shows artifical density features such as the Kepler field, SDSS footprint etc.\",\n",
    "    True\n",
    ")"
   ]
  },
  {
   "cell_type": "code",
   "execution_count": 14,
   "metadata": {},
   "outputs": [
    {
     "data": {
      "text/latex": [
       "\\begin{lstlisting}[language=sql]\n",
       "SELECT count(*) AS n,\n",
       "       sourceid/34359738368/65536 AS hpx\n",
       "FROM ops67b_modulex\n",
       "GROUP BY hpx\n",
       "\\end{lstlisting}"
      ],
      "text/markdown": [
       "```mysql\n",
       "SELECT count(*) AS n,\n",
       "       sourceid/34359738368/65536 AS hpx\n",
       "FROM ops67b_modulex\n",
       "GROUP BY hpx\n",
       "```"
      ],
      "text/plain": [
       "SELECT count(*) AS n,\n",
       "       sourceid/34359738368/65536 AS hpx\n",
       "FROM ops67b_modulex\n",
       "GROUP BY hpx"
      ]
     },
     "metadata": {},
     "output_type": "display_data"
    }
   ],
   "source": [
    "healpix_level = 4\n",
    "reduce_level = 12 - healpix_level\n",
    "scaling = 4 ** reduce_level\n",
    "nside = 2 ** healpix_level\n",
    "npix = 12 * nside * nside\n",
    "\n",
    "query = (f\"\"\"SELECT\n",
    "         count(*) as n,\n",
    "         sourceid/34359738368/{scaling:d} as hpx\n",
    "         FROM {RUNNAME:s}_modulex\n",
    "         GROUP BY hpx\"\"\")\n",
    "\n",
    "# The following line would be typical\n",
    "# sky = db.query(QueryStr(query, reindent=1))\n",
    "\n",
    "# However for this template, we need a bit of manual work\n",
    "# the result sky is similar to the db.query result\n",
    "_ = QueryStr(query, reindent=1)\n",
    "n = np.random.randint(0, int(1e7), size=npix, dtype=int)\n",
    "hpx = np.arange(npix)\n",
    "ind = n > 0\n",
    "sky = pd.DataFrame.from_dict({'hpx': hpx[ind], 'n': n[ind]})\n"
   ]
  },
  {
   "cell_type": "code",
   "execution_count": 15,
   "metadata": {},
   "outputs": [
    {
     "data": {
      "text/html": [
       "<blockquote>\n",
       "<p><strong>Figure (<a name=\"fig:sky_vstselection\">sky_vstselection</a>)</strong>: Distribution on the sky of the validation sources available in ops67b. The selection is only partly random. Half of the sample was selected for particular validation needs. Hence this map shows artifical density features such as the Kepler field, SDSS footprint etc.</p>\n",
       "</blockquote>\n"
      ],
      "text/latex": [
       "\\begin{figure}\n",
       "            \\centering\n",
       "            \\includegraphics[width=0.6\\columnwidth]{./figures/figure_sky_vstselection.pdf}\n",
       "            \\caption{Distribution on the sky of the validation sources available in ops67b.\n",
       "The selection is only partly random. Half of the sample was selected for\n",
       "particular validation needs. Hence this map shows artifical density\n",
       "features such as the Kepler field, SDSS footprint etc.}\n",
       "            \\label{fig:sky_vstselection}\n",
       "            \\end{figure}\n",
       "            "
      ],
      "text/plain": [
       "Figure: sky_vstselection (Distribution on the sky of the validation sources available in ops67b. The selection is only partly random. Half of the sample was selected for particular validation needs. Hence this map shows artifical density features such as the Kepler field, SDSS footprint etc.)"
      ]
     },
     "execution_count": 15,
     "metadata": {},
     "output_type": "execute_result"
    },
    {
     "data": {
      "image/png": "[encoded data removed]",
      "text/plain": [
       "<Figure size 850x540 with 2 Axes>"
      ]
     },
     "metadata": {},
     "output_type": "display_data"
    }
   ],
   "source": [
    "import healpy\n",
    "\n",
    "grid = np.zeros(npix, dtype=sky.n.dtype)\n",
    "grid[sky.hpx] = sky.n\n",
    "try:\n",
    "    mean = np.nanmean(grid)\n",
    "    std = np.nanstd(grid)\n",
    "except AttributeError:\n",
    "    mean = 0\n",
    "    std = 1\n",
    "vmin = np.round(max(1, mean - 1 * std), 0)\n",
    "vmax = np.round(max(1, mean + 1 * std), 0)\n",
    "\n",
    "healpy.mollview(grid, nest=True, \n",
    "                min=vmin, max=vmax, \n",
    "                coord=('C', 'G'), title=\"\")\n",
    "\n",
    "LatexFigure(\"sky_vstselection\", \n",
    "    f\"\"\"Distribution on the sky of the validation sources available in {RUNNAME:s}. The selection is only partly random. Half of the sample was selected for particular validation needs. Hence this map shows artifical density features such as the Kepler field, SDSS footprint etc.\"\"\",\n",
    "options=r'width=0.6\\columnwidth')"
   ]
  },
  {
   "cell_type": "markdown",
   "metadata": {
    "hide": true
   },
   "source": [
    "<div class=\"alert alert-block alert-warning\">\n",
    "    \n",
    "💡 `LatexFigure` provides the necessary bits to use figures.\n",
    "    \n",
    "It takes care of exporting a PDF version of the figure, keeps track of the desired label, caption, and potential latex (includegraphics) options.\n",
    "\n",
    "You can refer to a figure through its label, e.g. `[Figure sky_vstselection](#fig:sky_vstselection)`\n",
    "    \n",
    "</div>"
   ]
  },
  {
   "cell_type": "markdown",
   "metadata": {},
   "source": [
    "[Figure sky_vstselection](#fig:sky_vstselection) shows the distribution on the sky of the targets.\n",
    "The selection covers the entire sky but it is only partly random. Half of the sample was selected for particular validation needs. Hence this map shows artifical density features such as the Kepler field, SDSS footprint etc."
   ]
  },
  {
   "cell_type": "markdown",
   "metadata": {},
   "source": [
    "# Other tools and macros\n",
    "\n",
    "## Complex text with computed values\n",
    "\n",
    "Sometimes you need to generate text for a paragraph that needs to use calculated values. We provide `AutoText` to enable such output. It takes a Markdown formatted string and deals with either the notebook output or the latex exports transparently. For example\n",
    "\n",
    "```python\n",
    "AutoText(rf\"\"\"`{RUNNAME:s}` was a validation run and thus \n",
    "it contains only a limited sample of the Gaia data. \n",
    "...\n",
    "\"\"\")\n",
    "```"
   ]
  },
  {
   "cell_type": "code",
   "execution_count": 16,
   "metadata": {},
   "outputs": [
    {
     "data": {
      "text/latex": [
       "\\texttt{ops67b} was a validation run and thus contains only a limited\n",
       "sample of the Gaia data. This run processed \\(1,234,567\\) sources\n",
       "selected for validation (of which \\(\\sim10\\) million were randomly\n",
       "selected)."
      ],
      "text/markdown": [
       "`ops67b` was a validation run and thus contains only a limited sample of the Gaia data. \n",
       "This run processed  $1,234,567$ sources selected for validation (of which $\\sim10$ million were randomly selected).\n"
      ],
      "text/plain": [
       "<mf_jupyter.notebook.tools.AutoText object>"
      ]
     },
     "execution_count": 16,
     "metadata": {},
     "output_type": "execute_result"
    }
   ],
   "source": [
    "# RUNSIZE = db.query(f'select count(*) as n from {RUNNAME_ASP}_asp').n.values[0]\n",
    "RUNSIZE = int(1234567)\n",
    "\n",
    "AutoText(rf\"\"\"`{RUNNAME:s}` was a validation run and thus contains only a limited sample of the Gaia data. \n",
    "This run processed  ${RUNSIZE:,d}$ sources selected for validation (of which $\\sim10$ million were randomly selected).\n",
    "\"\"\")"
   ]
  },
  {
   "cell_type": "markdown",
   "metadata": {},
   "source": [
    "# Conclusions"
   ]
  },
  {
   "cell_type": "markdown",
   "metadata": {},
   "source": [
    "<div class=\"alert alert-block alert-info\">\n",
    "\n",
    "Your conclusion should address the following:\n",
    "\n",
    "* are the objectives fulfilled?\n",
    "* new bugs leading to patches (incl. JIRA links)\n",
    "* what level of quality for publishing the results?\n",
    "* Next run objectives\n",
    "    \n",
    "</div>"
   ]
  },
  {
   "cell_type": "markdown",
   "metadata": {},
   "source": [
    "This document is a template to use the `CU8val` package. It demonstrates the basic functionalities and how to use the CU8 validation macros."
   ]
  },
  {
   "cell_type": "markdown",
   "metadata": {
    "hide": true
   },
   "source": [
    "## Acknowledgements\n",
    "\n",
    "This work is the result of a lot of people that are most likely authors on this document.\n",
    "But it is as important to credit the various supports.\n",
    "\n",
    "<div class=\"alert alert-block alert-warning\">\n",
    "    \n",
    "💡 `Acknowledgements` provides the necessary bits to set acknowledgement information.\n",
    "    \n",
    "</div>"
   ]
  },
  {
   "cell_type": "code",
   "execution_count": 17,
   "metadata": {},
   "outputs": [
    {
     "data": {
      "text/latex": [
       "\n",
       "\\begin{acknowledgements}\n",
       "This document was prepared on the CU8 Validation Database supported and\n",
       "maintained at ESAC. This work made use of the\n",
       "\\href{https://jupyter.org}{Jupyter} package and ecosystem. It also\n",
       "heavily relies on \\href{https://nbconvert.readthedocs.io}{nbconvert} and\n",
       "\\href{https://github.com/mfouesneau/mf_jupyter}{mf\\_jupyter}.\n",
       "\\end{acknowledgements}"
      ],
      "text/markdown": [
       "**acknowledgements**\n",
       "This document was prepared on the CU8 Validation Database supported and maintained at ESAC.\n",
       "This work made use of the [Jupyter](https://jupyter.org) package and ecosystem. \n",
       "It also heavily relies on [nbconvert](https://nbconvert.readthedocs.io) and [mf\\_jupyter](https://github.com/mfouesneau/mf\\_jupyter).\n"
      ],
      "text/plain": [
       "<mf_jupyter.notebook.tools.Acknowledgements object>"
      ]
     },
     "execution_count": 17,
     "metadata": {},
     "output_type": "execute_result"
    }
   ],
   "source": [
    "Acknowledgements(r\"\"\"This document was prepared on the CU8 Validation Database supported and maintained at ESAC.\n",
    "This work made use of the [Jupyter](https://jupyter.org) package and ecosystem. \n",
    "It also heavily relies on [nbconvert](https://nbconvert.readthedocs.io) and [mf\\_jupyter](https://github.com/mfouesneau/mf\\_jupyter).\n",
    "\"\"\")"
   ]
  },
  {
   "cell_type": "markdown",
   "metadata": {
    "hide": true
   },
   "source": [
    "# Compile the current document"
   ]
  },
  {
   "cell_type": "code",
   "execution_count": 18,
   "metadata": {
    "hide": true
   },
   "outputs": [
    {
     "data": {
      "application/javascript": [
       "IPython.notebook.save_notebook();"
      ],
      "text/plain": [
       "<IPython.core.display.Javascript object>"
      ]
     },
     "metadata": {},
     "output_type": "display_data"
    },
    {
     "name": "stdout",
     "output_type": "stream",
     "text": [
      "jupyter nbconvert  --config=/Users/fouesneau/Work/projects/gaia-cu8/cu8val/venv/lib/python3.11/site-packages/mf_jupyter/config.py --to=latex --template=dpac --TemplateExporter.extra_template_basedirs=/Users/fouesneau/Work/projects/gaia-cu8/cu8val/venv/lib/python3.11/site-packages/mf_jupyter/templates template_notebook --debug\n",
      ".........................................\n",
      "conversion to tex:  success\n",
      "export TEXINPUTS=.:/Users/fouesneau/Work/projects/gaia-cu8/cu8val/venv/lib/python3.11/site-packages/mf_jupyter/texlibs/texmf//:/home/jovyan/work/share/cu8val_users/texmf////:\n",
      "    pdflatex -enable-write18 -shell-escape -interaction=nonstopmode template_notebook\n",
      "    bibtex template_notebook\n",
      "    pdflatex -enable-write18 -shell-escape -interaction=nonstopmode template_notebook\n",
      "    pdflatex -enable-write18 -shell-escape -interaction=nonstopmode template_notebook\n"
     ]
    },
    {
     "name": "stderr",
     "output_type": "stream",
     "text": [
      "/Users/fouesneau/Work/projects/gaia-cu8/cu8val/venv/lib/python3.11/site-packages/mf_jupyter/convert.py:127: ResourceWarning: unclosed file <_io.BufferedWriter name=94>\n",
      "  p = Popen(cmd.replace('\\n', '; '), shell=True, stdin=PIPE, stdout=PIPE, stderr=STDOUT, close_fds=True)\n",
      "/Users/fouesneau/Work/projects/gaia-cu8/cu8val/venv/lib/python3.11/site-packages/mf_jupyter/convert.py:127: ResourceWarning: unclosed file <_io.BufferedReader name=95>\n",
      "  p = Popen(cmd.replace('\\n', '; '), shell=True, stdin=PIPE, stdout=PIPE, stderr=STDOUT, close_fds=True)\n"
     ]
    },
    {
     "name": "stdout",
     "output_type": "stream",
     "text": [
      ".............................................................................................................................................................................................................................................................................................................................................................................................................................................................................................................................................................................................................................................................................................................................................................................................................................................................................................................................................................................................................................................\n",
      "conversion finished. Check template_notebook.pdf\n"
     ]
    },
    {
     "name": "stderr",
     "output_type": "stream",
     "text": [
      "/usr/local/Cellar/python@3.11/3.11.2_1/Frameworks/Python.framework/Versions/3.11/lib/python3.11/subprocess.py:1125: ResourceWarning: subprocess 70986 is still running\n",
      "  _warn(\"subprocess %s is still running\" % self.pid,\n",
      "/var/folders/jb/twt_8kfx4mj86m9v8jgccs_r5gbl99/T/ipykernel_70898/1367639123.py:8: ResourceWarning: unclosed file <_io.BufferedWriter name=96>\n",
      "  convert_notebook('template_notebook', template='dpac', silent=True, texdirs=texdirs)\n",
      "/var/folders/jb/twt_8kfx4mj86m9v8jgccs_r5gbl99/T/ipykernel_70898/1367639123.py:8: ResourceWarning: unclosed file <_io.BufferedReader name=97>\n",
      "  convert_notebook('template_notebook', template='dpac', silent=True, texdirs=texdirs)\n"
     ]
    }
   ],
   "source": [
    "# force a save of the notebook before making the PDF\n",
    "from IPython.display import display, Javascript\n",
    "display(Javascript('IPython.notebook.save_notebook();'))\n",
    "\n",
    "# convert to DPAC TR document.\n",
    "from mf_jupyter.convert import convert_notebook\n",
    "texdirs = [\"/home/jovyan/work/share/cu8val_users/texmf//\",]\n",
    "convert_notebook('template_notebook', template='dpac', silent=True, texdirs=texdirs)"
   ]
  },
  {
   "cell_type": "code",
   "execution_count": 19,
   "metadata": {},
   "outputs": [],
   "source": [
    "!open template_notebook.pdf"
   ]
  },
  {
   "cell_type": "code",
   "execution_count": null,
   "metadata": {},
   "outputs": [],
   "source": []
  }
 ],
 "metadata": {
  "celltoolbar": "mf_jupyter",
  "kernelspec": {
   "display_name": "Python 3 (ipykernel)",
   "language": "python",
   "name": "python3"
  },
  "language_info": {
   "codemirror_mode": {
    "name": "ipython",
    "version": 3
   },
   "file_extension": ".py",
   "mimetype": "text/x-python",
   "name": "python",
   "nbconvert_exporter": "python",
   "pygments_lexer": "ipython3",
   "version": "3.11.2"
  },
  "store": {
   "CU8ValidationTestListCell": 18
  }
 },
 "nbformat": 4,
 "nbformat_minor": 2
}
